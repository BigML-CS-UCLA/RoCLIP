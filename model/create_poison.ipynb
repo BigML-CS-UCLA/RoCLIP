{
 "cells": [
  {
   "cell_type": "code",
   "execution_count": 6,
   "metadata": {},
   "outputs": [],
   "source": [
    "import pandas as pd\n",
    "import numpy as np\n",
    "import csv\n",
    "import re\n",
    "\n",
    "# df: looking for captions\n",
    "df = pd.read_csv('full_3M_data.csv') # replaced with corresponding dataset\n",
    "total_k = df.values.tolist()\n",
    "total_k = np.array(total_k)\n",
    "# df_train: your training file\n",
    "df_train = pd.read_csv(\"test_data_10K.csv\")  # if want to train on smaller dataset\n",
    "final_k = np.array(df_train.values.tolist())\n",
    "# df_valid: looking for images\n",
    "df_valid = pd.read_csv(\"valid.csv\")\n",
    "valid_k = np.array(df_valid.values.tolist())"
   ]
  },
  {
   "cell_type": "code",
   "execution_count": null,
   "metadata": {},
   "outputs": [],
   "source": [
    "poisoners = ['tiger','candle','pizza','umbrella','television','baseball','ice cream','suit'] # poisoned category\n",
    "num = 100 # number of poisoned captions corresponding to each image\n",
    "poison_per_category = 1 # number of image per category\n",
    "poison_range = [num]\n",
    "total_poison = len(poison_range) * poison_per_category\n",
    "total_pairs = np.array([]).reshape(0,2)\n",
    "total_evaluation_pairs = np.array([]).reshape(0,4)  \n",
    "for cat_idx in range(len(poisoners)):\n",
    "    poison = poisoners[cat_idx]\n",
    "    total_poison_captions = np.array([[*x, poison] for x in total_k if re.search(r'\\b' + poison + r'\\b', x[0])])[:,0]\n",
    "    total_innocent_images = valid_k[np.random.choice(len(valid_k), num, replace=False), 1]\n",
    "    \n",
    "    select_captions_idx = np.random.choice(len(total_poison_captions), max(poison_range), replace=False) # 40\n",
    "    select_img_idx = np.random.choice(len(total_innocent_images), total_poison, replace=False) \n",
    "    for idx, num_poisons in enumerate(poison_range):\n",
    "        evaluation_dataset = np.reshape(np.repeat(['imagenet' + str(num_poisons)], num_poisons*poison_per_category), (num_poisons*poison_per_category,1))\n",
    "        injected_images = np.array(total_innocent_images)[select_img_idx[idx*poison_per_category:(idx+1) * poison_per_category]]\n",
    "        injected_captions = np.array(total_poison_captions)[select_captions_idx[:num_poisons]]\n",
    "        injected_images = np.reshape(np.repeat(injected_images, num_poisons), (num_poisons*poison_per_category,1))\n",
    "        injected_captions = np.reshape(np.tile(injected_captions, poison_per_category), (num_poisons*poison_per_category,1))\n",
    "        evaluation_group = np.reshape(np.repeat(poison, num_poisons * poison_per_category), (num_poisons*poison_per_category,1))\n",
    "        injected_pairs = np.append(injected_captions,injected_images, 1)\n",
    "        total_pairs = np.concatenate((total_pairs, injected_pairs), 0)\n",
    "        evaluation_pairs = np.concatenate((injected_pairs, evaluation_dataset, evaluation_group), 1)\n",
    "        total_evaluation_pairs = np.concatenate((total_evaluation_pairs, evaluation_pairs), 0)\n"
   ]
  },
  {
   "cell_type": "code",
   "execution_count": 4,
   "metadata": {},
   "outputs": [],
   "source": [
    "# generate poison info file\n",
    "\n",
    "pd.DataFrame(np.array(total_evaluation_pairs)).to_csv(\"10K_random_poison_1_{}_info.csv\".format(str(num)), index=False, header=[\"caption\", \"path\", \"dataset\", \"target\"])"
   ]
  },
  {
   "cell_type": "code",
   "execution_count": 5,
   "metadata": {},
   "outputs": [],
   "source": [
    "# generate the training file\n",
    "pd.DataFrame(np.concatenate((final_k, total_pairs))).to_csv(\"train_10K_random_poison_1_{}.csv\".format(str(num)), index=False, header=[\"caption\", \"path\"])"
   ]
  }
 ],
 "metadata": {
  "kernelspec": {
   "display_name": "Python 3",
   "language": "python",
   "name": "python3"
  },
  "language_info": {
   "codemirror_mode": {
    "name": "ipython",
    "version": 3
   },
   "file_extension": ".py",
   "mimetype": "text/x-python",
   "name": "python",
   "nbconvert_exporter": "python",
   "pygments_lexer": "ipython3",
   "version": "3.10.6"
  },
  "orig_nbformat": 4,
  "vscode": {
   "interpreter": {
    "hash": "e0b61b801bee499609bf75262e7f96988907fc8b11da351027b342a461b231a7"
   }
  }
 },
 "nbformat": 4,
 "nbformat_minor": 2
}
